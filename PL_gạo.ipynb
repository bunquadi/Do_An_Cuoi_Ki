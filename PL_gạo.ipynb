{
  "cells": [
    {
      "cell_type": "markdown",
      "metadata": {
        "id": "view-in-github",
        "colab_type": "text"
      },
      "source": [
        "<a href=\"https://colab.research.google.com/github/bunquadi/Do_An_Cuoi_Ki/blob/main/PL_g%E1%BA%A1o.ipynb\" target=\"_parent\"><img src=\"https://colab.research.google.com/assets/colab-badge.svg\" alt=\"Open In Colab\"/></a>"
      ]
    },
    {
      "cell_type": "code",
      "execution_count": null,
      "metadata": {
        "id": "YPcFwNYMxodw"
      },
      "outputs": [],
      "source": [
        "import tensorflow as tf\n",
        "from tensorflow import keras\n",
        "from keras.models import Sequential\n",
        "from keras.layers.convolutional import Conv2D, MaxPooling2D\n",
        "from keras.layers import Flatten, Dense, Dropout, Activation\n",
        "from google.colab import drive\n",
        "from tensorflow.keras.preprocessing.image import ImageDataGenerator\n",
        "from tensorflow.keras.optimizers import SGD, Adam\n",
        "from tensorflow.keras.callbacks import EarlyStopping\n",
        "from keras.models import load_model\n",
        "import matplotlib.pyplot as plt\n",
        "from tensorflow.keras.utils import load_img, img_to_array\n",
        "import numpy as np\n",
        "import pathlib"
      ]
    },
    {
      "cell_type": "code",
      "execution_count": null,
      "metadata": {
        "colab": {
          "base_uri": "https://localhost:8080/"
        },
        "id": "cCUsxuhIeJ82",
        "outputId": "cad85298-5de8-4658-e1a4-23ab55ced381"
      },
      "outputs": [
        {
          "output_type": "stream",
          "name": "stdout",
          "text": [
            "Mounted at /content/drive\n"
          ]
        }
      ],
      "source": [
        "from google.colab import drive\n",
        "drive.mount('/content/drive')"
      ]
    },
    {
      "cell_type": "code",
      "execution_count": null,
      "metadata": {
        "id": "QhWHvNwnekSm"
      },
      "outputs": [],
      "source": [
        "url= '/content/drive/MyDrive/gạo/train'\n",
        "test_data =  '/content/drive/MyDrive/gạo/val' \n",
        "val_data  =  '/content/drive/MyDrive/gạo/val' "
      ]
    },
    {
      "cell_type": "code",
      "execution_count": null,
      "metadata": {
        "colab": {
          "base_uri": "https://localhost:8080/"
        },
        "id": "mQcjSdf6eq4T",
        "outputId": "4636f368-35b0-4940-f1a5-69eb978ff66e"
      },
      "outputs": [
        {
          "output_type": "stream",
          "name": "stdout",
          "text": [
            "Found 1013 images belonging to 15 classes.\n",
            "Found 245 images belonging to 15 classes.\n",
            "['1. Gao  Thai', '10. Gao nhat', '11. Gao Pakistan', '12. Gao Campuchia', '13. Gao Myanmar', '14. Gao An', '15. Nep', '2. Gao lut nau', '3. Gao nep lao', '4. Gao italia', '5. Gao Han', '6. Gao thom Jasmine', '7. Gao lut đen', '8. Gao Trung quoc', '9. Gao viet']\n"
          ]
        }
      ],
      "source": [
        "generator=ImageDataGenerator(rescale=1./255,validation_split=0.2)\n",
        "train_data=generator.flow_from_directory(url,target_size=(64,64),batch_size=10,class_mode='categorical',subset='training')\n",
        "validation_data=generator.flow_from_directory(url,target_size=(64,64),batch_size=10,class_mode='categorical',subset='validation')\n",
        "label=list()\n",
        "for key in train_data.class_indices:\n",
        "\n",
        "  label.append(key)\n",
        "validation_data.class_indices\n",
        "print(label)\n"
      ]
    },
    {
      "cell_type": "code",
      "execution_count": null,
      "metadata": {
        "colab": {
          "base_uri": "https://localhost:8080/"
        },
        "id": "1eDCtlC1gWxN",
        "outputId": "154230b6-4d7c-47e8-96fd-5ead906c222b"
      },
      "outputs": [
        {
          "output_type": "stream",
          "name": "stderr",
          "text": [
            "/usr/local/lib/python3.7/dist-packages/keras/optimizer_v2/adam.py:105: UserWarning: The `lr` argument is deprecated, use `learning_rate` instead.\n",
            "  super(Adam, self).__init__(name, **kwargs)\n"
          ]
        },
        {
          "output_type": "stream",
          "name": "stdout",
          "text": [
            "Epoch 1/50\n",
            "102/102 [==============================] - 279s 3s/step - loss: 2.6073 - accuracy: 0.1431 - val_loss: 2.3785 - val_accuracy: 0.2082\n",
            "Epoch 2/50\n",
            "102/102 [==============================] - 4s 42ms/step - loss: 2.1253 - accuracy: 0.2962 - val_loss: 2.1767 - val_accuracy: 0.3184\n",
            "Epoch 3/50\n",
            "102/102 [==============================] - 4s 42ms/step - loss: 1.4904 - accuracy: 0.5114 - val_loss: 1.9808 - val_accuracy: 0.3429\n",
            "Epoch 4/50\n",
            "102/102 [==============================] - 5s 44ms/step - loss: 0.9203 - accuracy: 0.7256 - val_loss: 2.0684 - val_accuracy: 0.5020\n",
            "Epoch 5/50\n",
            "102/102 [==============================] - 4s 43ms/step - loss: 0.5880 - accuracy: 0.8440 - val_loss: 2.1057 - val_accuracy: 0.5265\n",
            "Epoch 6/50\n",
            "102/102 [==============================] - 4s 41ms/step - loss: 0.4546 - accuracy: 0.8638 - val_loss: 2.2061 - val_accuracy: 0.6122\n",
            "Epoch 7/50\n",
            "102/102 [==============================] - 4s 41ms/step - loss: 0.4082 - accuracy: 0.8806 - val_loss: 2.4972 - val_accuracy: 0.5959\n",
            "Epoch 8/50\n",
            "102/102 [==============================] - 4s 41ms/step - loss: 0.3067 - accuracy: 0.9102 - val_loss: 2.1992 - val_accuracy: 0.5796\n",
            "Epoch 9/50\n",
            "102/102 [==============================] - 4s 42ms/step - loss: 0.2696 - accuracy: 0.9319 - val_loss: 2.0601 - val_accuracy: 0.6776\n",
            "Epoch 10/50\n",
            "102/102 [==============================] - 4s 41ms/step - loss: 0.1788 - accuracy: 0.9526 - val_loss: 2.3086 - val_accuracy: 0.7102\n",
            "Epoch 11/50\n",
            "102/102 [==============================] - 4s 41ms/step - loss: 0.1484 - accuracy: 0.9526 - val_loss: 2.4128 - val_accuracy: 0.6776\n",
            "Epoch 12/50\n",
            "102/102 [==============================] - 4s 41ms/step - loss: 0.2298 - accuracy: 0.9467 - val_loss: 2.4733 - val_accuracy: 0.6612\n",
            "Epoch 13/50\n",
            "102/102 [==============================] - 4s 41ms/step - loss: 0.1257 - accuracy: 0.9625 - val_loss: 2.2990 - val_accuracy: 0.6776\n",
            "Epoch 14/50\n",
            "102/102 [==============================] - 4s 42ms/step - loss: 0.1387 - accuracy: 0.9645 - val_loss: 2.3145 - val_accuracy: 0.6857\n",
            "Epoch 15/50\n",
            "102/102 [==============================] - 4s 41ms/step - loss: 0.1260 - accuracy: 0.9635 - val_loss: 2.2307 - val_accuracy: 0.6531\n",
            "Epoch 16/50\n",
            "102/102 [==============================] - 4s 42ms/step - loss: 0.1401 - accuracy: 0.9605 - val_loss: 2.3830 - val_accuracy: 0.6776\n",
            "Epoch 17/50\n",
            "102/102 [==============================] - 4s 42ms/step - loss: 0.1152 - accuracy: 0.9684 - val_loss: 2.2026 - val_accuracy: 0.7061\n",
            "Epoch 18/50\n",
            "102/102 [==============================] - 4s 41ms/step - loss: 0.1081 - accuracy: 0.9654 - val_loss: 2.1974 - val_accuracy: 0.6980\n",
            "Epoch 19/50\n",
            "102/102 [==============================] - 4s 43ms/step - loss: 0.0953 - accuracy: 0.9763 - val_loss: 2.0638 - val_accuracy: 0.6612\n",
            "Epoch 20/50\n",
            "102/102 [==============================] - 4s 42ms/step - loss: 0.0917 - accuracy: 0.9674 - val_loss: 2.2151 - val_accuracy: 0.6980\n",
            "Epoch 21/50\n",
            "102/102 [==============================] - 4s 42ms/step - loss: 0.0853 - accuracy: 0.9724 - val_loss: 2.0817 - val_accuracy: 0.6571\n",
            "Epoch 22/50\n",
            "102/102 [==============================] - 4s 42ms/step - loss: 0.1066 - accuracy: 0.9645 - val_loss: 2.2237 - val_accuracy: 0.6694\n",
            "Epoch 23/50\n",
            "102/102 [==============================] - 4s 41ms/step - loss: 0.1447 - accuracy: 0.9625 - val_loss: 2.3157 - val_accuracy: 0.6490\n",
            "Epoch 24/50\n",
            "102/102 [==============================] - 4s 42ms/step - loss: 0.0952 - accuracy: 0.9724 - val_loss: 2.2548 - val_accuracy: 0.7020\n",
            "Epoch 25/50\n",
            "102/102 [==============================] - 4s 41ms/step - loss: 0.0672 - accuracy: 0.9783 - val_loss: 2.3467 - val_accuracy: 0.6816\n",
            "Epoch 26/50\n",
            "102/102 [==============================] - 4s 42ms/step - loss: 0.0906 - accuracy: 0.9684 - val_loss: 2.2122 - val_accuracy: 0.7224\n",
            "Epoch 27/50\n",
            "102/102 [==============================] - 4s 42ms/step - loss: 0.0809 - accuracy: 0.9694 - val_loss: 2.1256 - val_accuracy: 0.6653\n",
            "Epoch 28/50\n",
            "102/102 [==============================] - 4s 42ms/step - loss: 0.0928 - accuracy: 0.9714 - val_loss: 2.0777 - val_accuracy: 0.6735\n",
            "Epoch 29/50\n",
            "102/102 [==============================] - 4s 42ms/step - loss: 0.0915 - accuracy: 0.9724 - val_loss: 1.9287 - val_accuracy: 0.6939\n",
            "Epoch 30/50\n",
            "102/102 [==============================] - 4s 43ms/step - loss: 0.0834 - accuracy: 0.9704 - val_loss: 1.9780 - val_accuracy: 0.7020\n",
            "Epoch 31/50\n",
            "102/102 [==============================] - 4s 42ms/step - loss: 0.0802 - accuracy: 0.9654 - val_loss: 1.8774 - val_accuracy: 0.6898\n",
            "Epoch 32/50\n",
            "102/102 [==============================] - 4s 43ms/step - loss: 0.0650 - accuracy: 0.9753 - val_loss: 1.9619 - val_accuracy: 0.6531\n",
            "Epoch 33/50\n",
            "102/102 [==============================] - 4s 41ms/step - loss: 0.0746 - accuracy: 0.9694 - val_loss: 2.1104 - val_accuracy: 0.6980\n",
            "Epoch 34/50\n",
            "102/102 [==============================] - 4s 42ms/step - loss: 0.1201 - accuracy: 0.9654 - val_loss: 2.3630 - val_accuracy: 0.6408\n",
            "Epoch 35/50\n",
            "102/102 [==============================] - 4s 41ms/step - loss: 0.0913 - accuracy: 0.9733 - val_loss: 2.3366 - val_accuracy: 0.6898\n",
            "Epoch 36/50\n",
            "102/102 [==============================] - 4s 41ms/step - loss: 0.0926 - accuracy: 0.9664 - val_loss: 2.1459 - val_accuracy: 0.6939\n",
            "Epoch 37/50\n",
            "102/102 [==============================] - 4s 42ms/step - loss: 0.0784 - accuracy: 0.9704 - val_loss: 2.0060 - val_accuracy: 0.6857\n",
            "Epoch 38/50\n",
            "102/102 [==============================] - 4s 41ms/step - loss: 0.0577 - accuracy: 0.9773 - val_loss: 2.1644 - val_accuracy: 0.6857\n",
            "Epoch 39/50\n",
            "102/102 [==============================] - 4s 42ms/step - loss: 0.0670 - accuracy: 0.9724 - val_loss: 2.0891 - val_accuracy: 0.6694\n",
            "Epoch 40/50\n",
            "102/102 [==============================] - 4s 42ms/step - loss: 0.0809 - accuracy: 0.9704 - val_loss: 1.8721 - val_accuracy: 0.6857\n",
            "Epoch 41/50\n",
            "102/102 [==============================] - 4s 42ms/step - loss: 0.0741 - accuracy: 0.9743 - val_loss: 2.0148 - val_accuracy: 0.6694\n",
            "Epoch 42/50\n",
            "102/102 [==============================] - 4s 42ms/step - loss: 0.0550 - accuracy: 0.9733 - val_loss: 1.9211 - val_accuracy: 0.6939\n",
            "Epoch 43/50\n",
            "102/102 [==============================] - 4s 42ms/step - loss: 0.0620 - accuracy: 0.9704 - val_loss: 1.8442 - val_accuracy: 0.6735\n",
            "Epoch 44/50\n",
            "102/102 [==============================] - 4s 41ms/step - loss: 0.0556 - accuracy: 0.9733 - val_loss: 1.8195 - val_accuracy: 0.6939\n",
            "Epoch 45/50\n",
            "102/102 [==============================] - 4s 42ms/step - loss: 0.0550 - accuracy: 0.9704 - val_loss: 1.9747 - val_accuracy: 0.6857\n",
            "Epoch 46/50\n",
            "102/102 [==============================] - 4s 42ms/step - loss: 0.0607 - accuracy: 0.9704 - val_loss: 1.7899 - val_accuracy: 0.6857\n",
            "Epoch 47/50\n",
            "102/102 [==============================] - 4s 41ms/step - loss: 0.0583 - accuracy: 0.9753 - val_loss: 2.1232 - val_accuracy: 0.7020\n",
            "Epoch 48/50\n",
            "102/102 [==============================] - 4s 42ms/step - loss: 0.0537 - accuracy: 0.9753 - val_loss: 1.8813 - val_accuracy: 0.6735\n",
            "Epoch 49/50\n",
            "102/102 [==============================] - 4s 42ms/step - loss: 0.0501 - accuracy: 0.9753 - val_loss: 1.9524 - val_accuracy: 0.6857\n",
            "Epoch 50/50\n",
            "102/102 [==============================] - 4s 41ms/step - loss: 0.0541 - accuracy: 0.9733 - val_loss: 1.8868 - val_accuracy: 0.6735\n"
          ]
        }
      ],
      "source": [
        "model= Sequential()\n",
        "model.add(Conv2D(256,(3,3),activation='relu',kernel_initializer='he_uniform',padding='same',input_shape=(64,64,3)))\n",
        "model.add(Conv2D(128,(3,3),activation='relu',kernel_initializer='he_uniform',padding='same'))\n",
        "model.add(MaxPooling2D(2,2))\n",
        "model.add(Conv2D(64,(3,3),activation='relu',kernel_initializer='he_uniform',padding='same'))\n",
        "model.add(MaxPooling2D(2,2))\n",
        "model.add(Conv2D(64,(3,3),activation='relu',kernel_initializer='he_uniform',padding='same'))\n",
        "model.add(MaxPooling2D(2,2))\n",
        "model.add(Flatten())\n",
        "model.add(Dense(128,activation='relu',kernel_initializer='he_uniform'))\n",
        "model.add(Dense(15,activation='softmax'))\n",
        "opt=Adam(lr=0.0002)\n",
        "model.compile(optimizer=opt,loss='categorical_crossentropy',metrics=['accuracy'])\n",
        "history=model.fit(train_data,epochs=50,batch_size=64,validation_data=validation_data,verbose=1)"
      ]
    },
    {
      "cell_type": "code",
      "execution_count": null,
      "metadata": {
        "id": "fqPqArc_j1Kt"
      },
      "outputs": [],
      "source": [
        "model.save('PL gạo.h5')\n"
      ]
    },
    {
      "cell_type": "code",
      "execution_count": null,
      "metadata": {
        "id": "B8-eV8zBqUYM",
        "colab": {
          "base_uri": "https://localhost:8080/",
          "height": 575
        },
        "outputId": "bf4a0adb-37fa-45cf-b804-f2a8895abeca"
      },
      "outputs": [
        {
          "output_type": "stream",
          "name": "stderr",
          "text": [
            "/usr/local/lib/python3.7/dist-packages/ipykernel_launcher.py:6: MatplotlibDeprecationWarning: Unrecognized location 'upper_left'. Falling back on 'best'; valid locations are\n",
            "\tbest\n",
            "\tupper right\n",
            "\tupper left\n",
            "\tlower left\n",
            "\tlower right\n",
            "\tright\n",
            "\tcenter left\n",
            "\tcenter right\n",
            "\tlower center\n",
            "\tupper center\n",
            "\tcenter\n",
            "This will raise an exception in 3.3.\n",
            "  \n"
          ]
        },
        {
          "output_type": "execute_result",
          "data": {
            "text/plain": [
              "<matplotlib.legend.Legend at 0x7fa2b24efd10>"
            ]
          },
          "metadata": {},
          "execution_count": 9
        },
        {
          "output_type": "display_data",
          "data": {
            "text/plain": [
              "<Figure size 432x288 with 1 Axes>"
            ],
            "image/png": "[encoded data removed]"
          },
          "metadata": {
            "needs_background": "light"
          }
        }
      ],
      "source": [
        "plt.plot(history.history['accuracy'])\n",
        "plt.plot(history.history['val_accuracy'])\n",
        "plt.title('Model Accuracy')\n",
        "plt.ylabel('accuracy')\n",
        "plt.xlabel('epochs')\n",
        "plt.legend(['train','validation'],loc='upper_left')"
      ]
    },
    {
      "cell_type": "code",
      "execution_count": null,
      "metadata": {
        "id": "tOAFEdZZqWeG",
        "colab": {
          "base_uri": "https://localhost:8080/"
        },
        "outputId": "ba5a20b9-8b95-4aaa-aff5-b03bcefe5a28"
      },
      "outputs": [
        {
          "output_type": "stream",
          "name": "stdout",
          "text": [
            "25/25 [==============================] - 1s 43ms/step - loss: 1.8868 - accuracy: 0.6735\n",
            "loss:  1.8867993354797363\n",
            "accuracy:  0.6734693646430969\n"
          ]
        }
      ],
      "source": [
        "score=model.evaluate(validation_data,verbose=1)\n",
        "print('loss: ',score[0])\n",
        "print('accuracy: ',score[1])"
      ]
    },
    {
      "cell_type": "code",
      "execution_count": null,
      "metadata": {
        "id": "tlurLeX0J2MW"
      },
      "outputs": [],
      "source": [
        ""
      ]
    }
  ],
  "metadata": {
    "accelerator": "GPU",
    "colab": {
      "collapsed_sections": [],
      "name": "PL gạo.ipynb",
      "toc_visible": true,
      "provenance": [],
      "authorship_tag": "ABX9TyPSSqU0rbInnsgKXh/EVQSQ",
      "include_colab_link": true
    },
    "gpuClass": "standard",
    "kernelspec": {
      "display_name": "Python 3",
      "name": "python3"
    },
    "language_info": {
      "name": "python"
    }
  },
  "nbformat": 4,
  "nbformat_minor": 0
}